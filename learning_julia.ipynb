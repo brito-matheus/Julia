{
 "cells": [
  {
   "cell_type": "markdown",
   "metadata": {},
   "source": [
    "# Learing Julia"
   ]
  },
  {
   "cell_type": "code",
   "execution_count": 3,
   "metadata": {},
   "outputs": [],
   "source": [
    "using LinearAlgebra\n",
    "using Gadfly \n",
    "using DataTables \n",
    "using Query \n",
    "using XLSX\n",
    "using TableView \n",
    "using DataFrames"
   ]
  },
  {
   "cell_type": "code",
   "execution_count": 4,
   "metadata": {},
   "outputs": [
    {
     "data": {
      "text/html": [
       "<table class=\"data-frame\"><thead><tr><th></th><th>x1</th><th>x2</th><th>x3</th><th>x4</th><th>x5</th></tr><tr><th></th><th>Any</th><th>Any</th><th>Any</th><th>Any</th><th>Any</th></tr></thead><tbody><p>968 rows × 84 columns (omitted printing of 79 columns)</p><tr><th>1</th><td>Nome</td><td>Classe</td><td>Pais Sede</td><td>Tipo de Ativo</td><td>Ativo /\\nCancelado</td></tr><tr><th>2</th><td>051 Acoes FIA</td><td><em>missing</em></td><td>BR</td><td>Fundo</td><td>ativo</td></tr><tr><th>3</th><td>333 FIA Ie</td><td><em>missing</em></td><td>BR</td><td>Fundo</td><td>ativo</td></tr><tr><th>4</th><td>3g Radar FIC FIA 1080</td><td><em>missing</em></td><td>BR</td><td>Fundo</td><td>ativo</td></tr><tr><th>5</th><td>3g Radar FIC FIA 60 II</td><td><em>missing</em></td><td>BR</td><td>Fundo</td><td>ativo</td></tr><tr><th>6</th><td>3g Radar II FIC FIA 1080</td><td><em>missing</em></td><td>BR</td><td>Fundo</td><td>ativo</td></tr><tr><th>7</th><td>3g Radar Master FIA</td><td><em>missing</em></td><td>BR</td><td>Fundo</td><td>ativo</td></tr><tr><th>8</th><td>4um Marlin Dividendos FIA</td><td><em>missing</em></td><td>BR</td><td>Fundo</td><td>ativo</td></tr><tr><th>9</th><td>4um Small Caps FIA</td><td><em>missing</em></td><td>BR</td><td>Fundo</td><td>ativo</td></tr><tr><th>10</th><td>A3 FI Cotas FIA</td><td><em>missing</em></td><td>BR</td><td>Fundo</td><td>ativo</td></tr><tr><th>11</th><td>Absolute Alpha Glob II Mast FIA</td><td><em>missing</em></td><td>BR</td><td>Fundo</td><td>ativo</td></tr><tr><th>12</th><td>Absolute Alpha Global II Fc FIA</td><td><em>missing</em></td><td>BR</td><td>Fundo</td><td>ativo</td></tr><tr><th>13</th><td>Absolute Pace Lb Adv Fc FIA</td><td><em>missing</em></td><td>BR</td><td>Fundo</td><td>ativo</td></tr><tr><th>14</th><td>Absolute Pace Lb Master FIA</td><td><em>missing</em></td><td>BR</td><td>Fundo</td><td>ativo</td></tr><tr><th>15</th><td>Absolute Pace Long Biased CSHG Fc FIA</td><td><em>missing</em></td><td>BR</td><td>Fundo</td><td>ativo</td></tr><tr><th>16</th><td>Absolute Pace Long Biased CSHG II Fc FIA</td><td><em>missing</em></td><td>BR</td><td>Fundo</td><td>ativo</td></tr><tr><th>17</th><td>Absolute Pace Long Biased Fc FIA</td><td><em>missing</em></td><td>BR</td><td>Fundo</td><td>ativo</td></tr><tr><th>18</th><td>Absoluto Partners FIC FIA I</td><td><em>missing</em></td><td>BR</td><td>Fundo</td><td>ativo</td></tr><tr><th>19</th><td>Absoluto Partners FIC FIA II</td><td><em>missing</em></td><td>BR</td><td>Fundo</td><td>ativo</td></tr><tr><th>20</th><td>Absoluto Partners I Access FIC FIA</td><td><em>missing</em></td><td>BR</td><td>Fundo</td><td>ativo</td></tr><tr><th>21</th><td>Absoluto Partners I.1 Fc FIA</td><td><em>missing</em></td><td>BR</td><td>Fundo</td><td>ativo</td></tr><tr><th>22</th><td>Absoluto Partners I.2 Fc de FIA</td><td><em>missing</em></td><td>BR</td><td>Fundo</td><td>ativo</td></tr><tr><th>23</th><td>Absoluto Partners Ins M FIA</td><td><em>missing</em></td><td>BR</td><td>Fundo</td><td>ativo</td></tr><tr><th>24</th><td>Absoluto Partners Inst FIC FIA</td><td><em>missing</em></td><td>BR</td><td>Fundo</td><td>ativo</td></tr><tr><th>25</th><td>Absoluto Partners Master FIA</td><td><em>missing</em></td><td>BR</td><td>Fundo</td><td>ativo</td></tr><tr><th>26</th><td>Absoluto Partners Pvt Fc Acoes</td><td><em>missing</em></td><td>BR</td><td>Fundo</td><td>ativo</td></tr><tr><th>27</th><td>Access Equity World FIA Ie</td><td><em>missing</em></td><td>BR</td><td>Fundo</td><td>ativo</td></tr><tr><th>28</th><td>Access Usa Companies FIA Ie</td><td><em>missing</em></td><td>BR</td><td>Fundo</td><td>ativo</td></tr><tr><th>29</th><td>Acesso Sharp Equity Value Acoes Fc FI</td><td><em>missing</em></td><td>BR</td><td>Fundo</td><td>ativo</td></tr><tr><th>30</th><td>Acesso Truxt Long Bias Acoes Fc FI</td><td><em>missing</em></td><td>BR</td><td>Fundo</td><td>ativo</td></tr><tr><th>&vellip;</th><td>&vellip;</td><td>&vellip;</td><td>&vellip;</td><td>&vellip;</td><td>&vellip;</td></tr></tbody></table>"
      ],
      "text/latex": [
       "\\begin{tabular}{r|cccccc}\n",
       "\t& x1 & x2 & x3 & x4 & x5 & \\\\\n",
       "\t\\hline\n",
       "\t& Any & Any & Any & Any & Any & \\\\\n",
       "\t\\hline\n",
       "\t1 & Nome & Classe & Pais Sede & Tipo de Ativo & Ativo /\\textbackslash{}nCancelado & $\\dots$ \\\\\n",
       "\t2 & 051 Acoes FIA & \\emph{missing} & BR & Fundo & ativo & $\\dots$ \\\\\n",
       "\t3 & 333 FIA Ie & \\emph{missing} & BR & Fundo & ativo & $\\dots$ \\\\\n",
       "\t4 & 3g Radar FIC FIA 1080 & \\emph{missing} & BR & Fundo & ativo & $\\dots$ \\\\\n",
       "\t5 & 3g Radar FIC FIA 60 II & \\emph{missing} & BR & Fundo & ativo & $\\dots$ \\\\\n",
       "\t6 & 3g Radar II FIC FIA 1080 & \\emph{missing} & BR & Fundo & ativo & $\\dots$ \\\\\n",
       "\t7 & 3g Radar Master FIA & \\emph{missing} & BR & Fundo & ativo & $\\dots$ \\\\\n",
       "\t8 & 4um Marlin Dividendos FIA & \\emph{missing} & BR & Fundo & ativo & $\\dots$ \\\\\n",
       "\t9 & 4um Small Caps FIA & \\emph{missing} & BR & Fundo & ativo & $\\dots$ \\\\\n",
       "\t10 & A3 FI Cotas FIA & \\emph{missing} & BR & Fundo & ativo & $\\dots$ \\\\\n",
       "\t11 & Absolute Alpha Glob II Mast FIA & \\emph{missing} & BR & Fundo & ativo & $\\dots$ \\\\\n",
       "\t12 & Absolute Alpha Global II Fc FIA & \\emph{missing} & BR & Fundo & ativo & $\\dots$ \\\\\n",
       "\t13 & Absolute Pace Lb Adv Fc FIA & \\emph{missing} & BR & Fundo & ativo & $\\dots$ \\\\\n",
       "\t14 & Absolute Pace Lb Master FIA & \\emph{missing} & BR & Fundo & ativo & $\\dots$ \\\\\n",
       "\t15 & Absolute Pace Long Biased CSHG Fc FIA & \\emph{missing} & BR & Fundo & ativo & $\\dots$ \\\\\n",
       "\t16 & Absolute Pace Long Biased CSHG II Fc FIA & \\emph{missing} & BR & Fundo & ativo & $\\dots$ \\\\\n",
       "\t17 & Absolute Pace Long Biased Fc FIA & \\emph{missing} & BR & Fundo & ativo & $\\dots$ \\\\\n",
       "\t18 & Absoluto Partners FIC FIA I & \\emph{missing} & BR & Fundo & ativo & $\\dots$ \\\\\n",
       "\t19 & Absoluto Partners FIC FIA II & \\emph{missing} & BR & Fundo & ativo & $\\dots$ \\\\\n",
       "\t20 & Absoluto Partners I Access FIC FIA & \\emph{missing} & BR & Fundo & ativo & $\\dots$ \\\\\n",
       "\t21 & Absoluto Partners I.1 Fc FIA & \\emph{missing} & BR & Fundo & ativo & $\\dots$ \\\\\n",
       "\t22 & Absoluto Partners I.2 Fc de FIA & \\emph{missing} & BR & Fundo & ativo & $\\dots$ \\\\\n",
       "\t23 & Absoluto Partners Ins M FIA & \\emph{missing} & BR & Fundo & ativo & $\\dots$ \\\\\n",
       "\t24 & Absoluto Partners Inst FIC FIA & \\emph{missing} & BR & Fundo & ativo & $\\dots$ \\\\\n",
       "\t25 & Absoluto Partners Master FIA & \\emph{missing} & BR & Fundo & ativo & $\\dots$ \\\\\n",
       "\t26 & Absoluto Partners Pvt Fc Acoes & \\emph{missing} & BR & Fundo & ativo & $\\dots$ \\\\\n",
       "\t27 & Access Equity World FIA Ie & \\emph{missing} & BR & Fundo & ativo & $\\dots$ \\\\\n",
       "\t28 & Access Usa Companies FIA Ie & \\emph{missing} & BR & Fundo & ativo & $\\dots$ \\\\\n",
       "\t29 & Acesso Sharp Equity Value Acoes Fc FI & \\emph{missing} & BR & Fundo & ativo & $\\dots$ \\\\\n",
       "\t30 & Acesso Truxt Long Bias Acoes Fc FI & \\emph{missing} & BR & Fundo & ativo & $\\dots$ \\\\\n",
       "\t$\\dots$ & $\\dots$ & $\\dots$ & $\\dots$ & $\\dots$ & $\\dots$ &  \\\\\n",
       "\\end{tabular}\n"
      ],
      "text/plain": [
       "968×84 DataFrame. Omitted printing of 81 columns\n",
       "│ Row │ x1                                       │ x2      │ x3        │\n",
       "│     │ \u001b[90mAny\u001b[39m                                      │ \u001b[90mAny\u001b[39m     │ \u001b[90mAny\u001b[39m       │\n",
       "├─────┼──────────────────────────────────────────┼─────────┼───────────┤\n",
       "│ 1   │ Nome                                     │ Classe  │ Pais Sede │\n",
       "│ 2   │ 051 Acoes FIA                            │ \u001b[90mmissing\u001b[39m │ BR        │\n",
       "│ 3   │ 333 FIA Ie                               │ \u001b[90mmissing\u001b[39m │ BR        │\n",
       "│ 4   │ 3g Radar FIC FIA 1080                    │ \u001b[90mmissing\u001b[39m │ BR        │\n",
       "│ 5   │ 3g Radar FIC FIA 60 II                   │ \u001b[90mmissing\u001b[39m │ BR        │\n",
       "│ 6   │ 3g Radar II FIC FIA 1080                 │ \u001b[90mmissing\u001b[39m │ BR        │\n",
       "│ 7   │ 3g Radar Master FIA                      │ \u001b[90mmissing\u001b[39m │ BR        │\n",
       "│ 8   │ 4um Marlin Dividendos FIA                │ \u001b[90mmissing\u001b[39m │ BR        │\n",
       "│ 9   │ 4um Small Caps FIA                       │ \u001b[90mmissing\u001b[39m │ BR        │\n",
       "│ 10  │ A3 FI Cotas FIA                          │ \u001b[90mmissing\u001b[39m │ BR        │\n",
       "⋮\n",
       "│ 958 │ Western Asset Prev Ibrx Alpha Acoes Fc F │ \u001b[90mmissing\u001b[39m │ BR        │\n",
       "│ 959 │ Western Asset Valuation FIA              │ \u001b[90mmissing\u001b[39m │ BR        │\n",
       "│ 960 │ Xingo FIA                                │ \u001b[90mmissing\u001b[39m │ BR        │\n",
       "│ 961 │ Xingo FIC FIA 360                        │ \u001b[90mmissing\u001b[39m │ BR        │\n",
       "│ 962 │ Xp Investor 30 FIC FIA                   │ \u001b[90mmissing\u001b[39m │ BR        │\n",
       "│ 963 │ Xp Investor 30 Master FIA                │ \u001b[90mmissing\u001b[39m │ BR        │\n",
       "│ 964 │ Xp Investor Dividendos 30 Fc FIA         │ \u001b[90mmissing\u001b[39m │ BR        │\n",
       "│ 965 │ Xp Investor Dividendos 30 Master FIA     │ \u001b[90mmissing\u001b[39m │ BR        │\n",
       "│ 966 │ Xp Investor Dividendos FIA               │ \u001b[90mmissing\u001b[39m │ BR        │\n",
       "│ 967 │ Xp Investor FIA                          │ \u001b[90mmissing\u001b[39m │ BR        │\n",
       "│ 968 │ Xp Long Term Equity Master FIA           │ \u001b[90mmissing\u001b[39m │ BR        │"
      ]
     },
     "execution_count": 4,
     "metadata": {},
     "output_type": "execute_result"
    }
   ],
   "source": [
    "\n",
    "data = XLSX.readxlsx(\"C:/Users/mathe/OneDrive/Documentos/Finanças/fundos.xlsx\")\n",
    "\n",
    "dt = DataFrame(data[1][:])"
   ]
  },
  {
   "cell_type": "code",
   "execution_count": 7,
   "metadata": {},
   "outputs": [
    {
     "data": {
      "text/plain": [
       "84-element Array{String,1}:\n",
       " \"x1\"\n",
       " \"x2\"\n",
       " \"x3\"\n",
       " \"x4\"\n",
       " \"x5\"\n",
       " \"x6\"\n",
       " \"x7\"\n",
       " \"x8\"\n",
       " \"x9\"\n",
       " \"x10\"\n",
       " \"x11\"\n",
       " \"x12\"\n",
       " \"x13\"\n",
       " ⋮\n",
       " \"x73\"\n",
       " \"x74\"\n",
       " \"x75\"\n",
       " \"x76\"\n",
       " \"x77\"\n",
       " \"x78\"\n",
       " \"x79\"\n",
       " \"x80\"\n",
       " \"x81\"\n",
       " \"x82\"\n",
       " \"x83\"\n",
       " \"x84\""
      ]
     },
     "execution_count": 7,
     "metadata": {},
     "output_type": "execute_result"
    }
   ],
   "source": [
    "head(dt)\n",
    "\n",
    "tail(dt)"
   ]
  }
 ],
 "metadata": {
  "kernelspec": {
   "display_name": "Julia 1.5.3",
   "language": "julia",
   "name": "julia-1.5"
  },
  "language_info": {
   "file_extension": ".jl",
   "mimetype": "application/julia",
   "name": "julia",
   "version": "1.5.3"
  },
  "orig_nbformat": 4
 },
 "nbformat": 4,
 "nbformat_minor": 2
}
