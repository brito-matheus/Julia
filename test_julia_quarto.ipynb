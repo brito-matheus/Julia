{
 "cells": [
  {
   "attachments": {},
   "cell_type": "markdown",
   "metadata": {},
   "source": [
    "---\n",
    "title: \"Learning Julia\"\n",
    "author: \"Matheus Carrijo de Brito\"\n",
    "data: \"2023/24/03\"\n",
    "format: html\n",
    "theme: cosmos\n",
    "toc: true\n",
    "---"
   ]
  },
  {
   "attachments": {},
   "cell_type": "markdown",
   "metadata": {},
   "source": [
    "### Learning Julia\n"
   ]
  },
  {
   "cell_type": "code",
   "execution_count": 1,
   "metadata": {},
   "outputs": [],
   "source": [
    "using DataFrames\n",
    "using LinearAlgebra\n",
    "using Gadfly \n",
    "using TableView\n",
    "using CSV\n",
    "using XLSX"
   ]
  },
  {
   "cell_type": "code",
   "execution_count": null,
   "metadata": {},
   "outputs": [],
   "source": [
    "# Start Importing Fundos data set \n",
    "\n",
    "fundos = XLSX.readxlsx(\"C:/Users/mathe/OneDrive/Documentos/Finanças/fundos.xlsx\")\n",
    "\n",
    "\n",
    "dt = DataFrames.DataFrame(fundos[\"Sheet1\"][:], :auto)\n",
    "\n",
    "column_names = Array{String}(dt[1, :])\n",
    "\n",
    "for i in eachindex(column_names)\n",
    "    column_names[i] = replace(column_names[i], \"\\n\" => \" \")\n",
    "    column_names[i] = replace(column_names[i], \" \" => \"_\")\n",
    "end\n"
   ]
  },
  {
   "cell_type": "code",
   "execution_count": null,
   "metadata": {},
   "outputs": [],
   "source": [
    "#| tbl-caption: \"Tabela teste\" \n",
    "#| tbl-width: 12\n",
    "\n",
    "# Rename the data frame \n",
    "rename!(dt, column_names, makeunique=true)\n",
    "\n",
    "print(dt[1:10, 1:10])"
   ]
  },
  {
   "cell_type": "code",
   "execution_count": null,
   "metadata": {},
   "outputs": [],
   "source": [
    "# Selecionando as colunas \n",
    "dt[:, [:Nome, :Classe, :Classificação_Anbima]]\n",
    "\n",
    "dropmissing(dt[!, [:Nome, :Classe, :Classificação_Anbima, :Gestora_]])"
   ]
  }
 ],
 "metadata": {
  "kernelspec": {
   "display_name": "Julia 1.8.2",
   "language": "julia",
   "name": "julia-1.8"
  },
  "language_info": {
   "file_extension": ".jl",
   "mimetype": "application/julia",
   "name": "julia",
   "version": "1.8.2"
  },
  "orig_nbformat": 4
 },
 "nbformat": 4,
 "nbformat_minor": 2
}
