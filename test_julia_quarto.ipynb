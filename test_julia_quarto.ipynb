{
 "cells": [
  {
   "attachments": {},
   "cell_type": "markdown",
   "metadata": {},
   "source": [
    "---\n",
    "title: \"Learning Julia\"\n",
    "author: \"Matheus Carrijo de Brito\"\n",
    "data: \"2023/24/03\"\n",
    "format: \n",
    "    html:\n",
    "        code-fold: true\n",
    "theme: cosmos\n",
    "toc: true\n",
    "---"
   ]
  },
  {
   "attachments": {},
   "cell_type": "markdown",
   "metadata": {},
   "source": [
    "### Learning Julia\n"
   ]
  },
  {
   "cell_type": "code",
   "execution_count": 1,
   "metadata": {},
   "outputs": [],
   "source": [
    "using DataFrames\n",
    "using LinearAlgebra\n",
    "using Gadfly \n",
    "using TableView\n",
    "using CSV\n",
    "using XLSX"
   ]
  },
  {
   "cell_type": "code",
   "execution_count": 2,
   "metadata": {},
   "outputs": [],
   "source": [
    "# Start Importing Fundos data set \n",
    "\n",
    "fundos = XLSX.readxlsx(\"C:/Users/mathe/OneDrive/Documentos/Finanças/fundos.xlsx\")\n",
    "\n",
    "\n",
    "dt = DataFrames.DataFrame(fundos[\"Sheet1\"][:], :auto)\n",
    "\n",
    "column_names = Array{String}(dt[1, :])\n",
    "\n",
    "for i in eachindex(column_names)\n",
    "    column_names[i] = replace(column_names[i], \"\\n\" => \" \")\n",
    "    column_names[i] = replace(column_names[i], \" \" => \"_\")\n",
    "end\n"
   ]
  },
  {
   "cell_type": "code",
   "execution_count": 3,
   "metadata": {},
   "outputs": [
    {
     "name": "stdout",
     "output_type": "stream",
     "text": [
      "\u001b[1m10×10 DataFrame\u001b[0m\n",
      "\u001b[1m Row \u001b[0m│\u001b[1m Nome                      \u001b[0m\u001b[1m Classe  \u001b[0m\u001b[1m Pais_Sede \u001b[0m\u001b[1m Tipo_de_Ativo \u001b[0m\u001b[1m Ativo_/_C\u001b[0m ⋯\n",
      "\u001b[1m     \u001b[0m│\u001b[90m Any                       \u001b[0m\u001b[90m Any     \u001b[0m\u001b[90m Any       \u001b[0m\u001b[90m Any           \u001b[0m\u001b[90m Any      \u001b[0m ⋯\n",
      "─────┼──────────────────────────────────────────────────────────────────────────\n",
      "   1 │ Nome                       Classe   Pais Sede  Tipo de Ativo  Ativo /\\n ⋯\n",
      "   2 │ 051 Acoes FIA             \u001b[90m missing \u001b[0m BR         Fundo          ativo\n",
      "   3 │ 333 FIA Ie                \u001b[90m missing \u001b[0m BR         Fundo          ativo\n",
      "   4 │ 3g Radar FIC FIA 1080     \u001b[90m missing \u001b[0m BR         Fundo          ativo\n",
      "   5 │ 3g Radar FIC FIA 60 II    \u001b[90m missing \u001b[0m BR         Fundo          ativo     ⋯\n",
      "   6 │ 3g Radar II FIC FIA 1080  \u001b[90m missing \u001b[0m BR         Fundo          ativo\n",
      "   7 │ 3g Radar Master FIA       \u001b[90m missing \u001b[0m BR         Fundo          ativo\n",
      "   8 │ 4um Marlin Dividendos FIA \u001b[90m missing \u001b[0m BR         Fundo          ativo\n",
      "   9 │ 4um Small Caps FIA        \u001b[90m missing \u001b[0m BR         Fundo          ativo     ⋯\n",
      "  10 │ A3 FI Cotas FIA           \u001b[90m missing \u001b[0m BR         Fundo          ativo\n",
      "\u001b[36m                                                               6 columns omitted\u001b[0m"
     ]
    }
   ],
   "source": [
    "#| tbl-caption: \"Tabela teste\" \n",
    "#| tbl-width: 12\n",
    "\n",
    "# Rename the data frame \n",
    "rename!(dt, column_names, makeunique=true)\n",
    "\n",
    "show(dt[1:10, 1:10])"
   ]
  },
  {
   "cell_type": "code",
   "execution_count": 4,
   "metadata": {},
   "outputs": [
    {
     "data": {
      "text/html": [
       "<div class=\"data-frame\"><p>1 rows × 4 columns</p><table class=\"data-frame\"><thead><tr><th></th><th>Nome</th><th>Classe</th><th>Classificação_Anbima</th><th>Gestora_</th></tr><tr><th></th><th title=\"Any\">Any</th><th title=\"Any\">Any</th><th title=\"Any\">Any</th><th title=\"Any\">Any</th></tr></thead><tbody><tr><th>1</th><td>Nome</td><td>Classe</td><td>Classificação\\nAnbima</td><td>Gestora\\n</td></tr></tbody></table></div>"
      ],
      "text/latex": [
       "\\begin{tabular}{r|cccc}\n",
       "\t& Nome & Classe & Classificação\\_Anbima & Gestora\\_\\\\\n",
       "\t\\hline\n",
       "\t& Any & Any & Any & Any\\\\\n",
       "\t\\hline\n",
       "\t1 & Nome & Classe & Classificação\\textbackslash{}nAnbima & Gestora\\textbackslash{}n \\\\\n",
       "\\end{tabular}\n"
      ],
      "text/plain": [
       "\u001b[1m1×4 DataFrame\u001b[0m\n",
       "\u001b[1m Row \u001b[0m│\u001b[1m Nome \u001b[0m\u001b[1m Classe \u001b[0m\u001b[1m Classificação_Anbima  \u001b[0m\u001b[1m Gestora_  \u001b[0m\n",
       "\u001b[1m     \u001b[0m│\u001b[90m Any  \u001b[0m\u001b[90m Any    \u001b[0m\u001b[90m Any                   \u001b[0m\u001b[90m Any       \u001b[0m\n",
       "─────┼────────────────────────────────────────────────\n",
       "   1 │ Nome  Classe  Classificação\\nAnbima  Gestora\\n"
      ]
     },
     "metadata": {},
     "output_type": "display_data"
    }
   ],
   "source": [
    "# Selecionando as colunas \n",
    "dt[:, [:Nome, :Classe, :Classificação_Anbima]]\n",
    "\n",
    "dropmissing(dt[!, [:Nome, :Classe, :Classificação_Anbima, :Gestora_]])"
   ]
  },
  {
   "cell_type": "code",
   "execution_count": 8,
   "metadata": {},
   "outputs": [
    {
     "name": "stdout",
     "output_type": "stream",
     "text": [
      "[\"Nome\", \"Classe\", \"Pais_Sede\", \"Tipo_de_Ativo\", \"Ativo_/_Cancelado\", \"CNPJ\", \"Código_Anbima\", \"Classificação_Anbima\", \"Gestora_\", \"Administradora\", \"Link_para_o_regulamento\", \"Tipo_de_investidor\", \"Taxa_de_Administração_Máxima_em_%_a.a.\", \"Investimento_no_Exterior\", \"Benchmark\", \"Data_do_Início_da_Série\", \"Data_da_Últ_Cotação\", \"Patrimônio___em_milhares\", \"Patrimônio_Médio_12_meses_em_milhares\", \"Patrimônio_vs_Média_de_12_meses_em_%\", \"Cota___em_reais\", \"Cota_Máxima_em_12_meses_em_reais\", \"Data_da_Cota_Máxima_12_meses\", \"Cota_Atual_vs_Máx_12_meses_em_%\", \"Média_de_Cotistas_1_mês_em_unidades\", \"Captação_Líquida_no_Mês_em_milhares\", \"Captação_Líquida_no_Ano_em_milhares\", \"Captação_Líquida_em_12_meses_em_milhares\", \"Retorno_1_mês__em_%\", \"Prêmio_vs_IBOV_1_mês_em_dif._de_p.p.\", \"Retorno_3_meses__em_%\", \"Prêmio_vs_IBOV_3_meses_em_dif._de_p.p.\", \"Retorno_6_meses__em_%\", \"Prêmio_vs_IBOV_6_meses_em_dif._de_p.p.\", \"Retorno_12_meses__em_%\", \"Prêmio_vs_IBOV_12_meses_em_dif._de_p.p.\", \"Retorno_24_meses__em_%\", \"Prêmio_vs_IBOV_24_meses_em_dif._de_p.p.\", \"Retorno_36_meses__em_%\", \"Prêmio_vs_IBOV_36_meses_em_dif._de_p.p.\", \"Retorno_no_mês__em_%\", \"Prêmio_vs_IBOV_no_mês_em_dif._de_p.p.\", \"Retorno_no_ano__em_%\", \"Prêmio_vs_IBOV_no_ano_em_dif._de_p.p.\", \"Retorno_desde_o_Início_em_%\", \"Prêmio_Médio_Anual_vs_IBOV_do_Início_em_dif._de_p.p.\", \"Data_do_Início_da_Série\", \"Volatilidade_12_meses__em_%\", \"Sharpe_12_meses__em_unidades\", \"VAR_95%_p/_1_dia_(últ._12_meses)_em_%\", \"Máx_Retorno_Mensal_(últ._12_meses)_em_%\","
     ]
    },
    {
     "name": "stdout",
     "output_type": "stream",
     "text": [
      " \"Máx_Prêmio_Mensal_vs_IBOV_(últ._12_meses)_em_dif._de_p.p.\", \"Mín_Retorno_Mensal_(últ._12_meses)_em_%\", \"Mín_Prêmio_Mensal_vs_IBOV_(últ._12_meses)_em_dif._de_p.p.\", \"Meses_Positivos_(últ._12_meses)_em_unidades\", \"Meses_Negativos_(últ._12_meses)_em_unidades\", \"Meses_acima_do_IBOV_(últ._12_meses)_em_unidades\", \"Meses_abaixo_do_IBOV_(últ._12_meses)_em_unidades\", \"Perda_Máxima__(últ._12_meses)_em_%\", \"Data_do_Pico_Perda_Máxima\", \"Data_do_Fundo_Perda_Máxima\", \"Tempo_de_Recuperação_Perda_Máxima_em_dias_úteis\", \"Data_de_Recuperação_Perda_Máxima\", \"Data_da_Última_Carteira_Aberta\", \"Alocação_em_Títulos_Públicos_(1)_em_%\", \"Alocação_em_Compromissadas_(2)_em_%\", \"Alocação_em_Debêntures_(3)_em_%\", \"Alocação_em_Dep._a_Prazo_(4)_em_%\", \"Alocação_Renda_Fixa_(1+2+3+4)_em_%\", \"Alocação_em_Ações_(5)_em_%\", \"Alocação_em_BDR's_(6)_em_%\", \"Alocação_em_UNIT's_(7)_em_%\", \"Alocação_em_Emp._Cedidos_(8)_em_%\", \"Alocação_em_Emp._Recebidos_(9)_em_%\", \"Alocação_NET_em_R._Variável_(5+6+7+8-9)_em_%\", \"Alocação_em_Investimentos_no_Exterior_em_%\", \"Alocação_em_Cotas_de_Fundos_em_%\", \"1º_Maior_Investimento__em_%\", \"1º_Maior_Investimento_\", \"2º_Maior_Investimento__em_%\", \"2º_Maior_Investimento_\", \"3º_Maior_Investimento__em_%\", \"3º_Maior_Investimento_\", \"Soma_dos_3_Maiores_Investimento_em_%\"]"
     ]
    },
    {
     "ename": "ErrorException",
     "evalue": "syntax: character literal contains multiple characters",
     "output_type": "error",
     "traceback": [
      "syntax: character literal contains multiple characters\n",
      "\n",
      "Stacktrace:\n",
      " [1] top-level scope\n",
      "   @ c:\\Users\\mathe\\OneDrive - Fundacao Getulio Vargas - FGV\\documentos\\Documentos\\GitHub\\Julia\\test_julia_quarto.ipynb:3"
     ]
    }
   ],
   "source": [
    "show(column_names)\n",
    "\n",
    "describe(dt[:, ['Taxa_de_Administração_Máxima_em_%_a.a.','Patrimônio___em_milhares']])"
   ]
  },
  {
   "cell_type": "code",
   "execution_count": 19,
   "metadata": {},
   "outputs": [
    {
     "data": {
      "text/html": [
       "<div class=\"data-frame\"><p>2 rows × 5 columns</p><table class=\"data-frame\"><thead><tr><th></th><th>variable</th><th>min</th><th>max</th><th>mean</th><th>nunique</th></tr><tr><th></th><th title=\"Symbol\">Symbol</th><th title=\"Float64\">Float64</th><th title=\"Float64\">Float64</th><th title=\"Float64\">Float64</th><th title=\"Int64\">Int64</th></tr></thead><tbody><tr><th>1</th><td>Taxa_de_Administração_Máxima_em_%_a.a.</td><td>0.0</td><td>2.0</td><td>1.10222</td><td>6</td></tr><tr><th>2</th><td>Patrimônio___em_milhares</td><td>1.0168e5</td><td>849838.0</td><td>2.44412e5</td><td>9</td></tr></tbody></table></div>"
      ],
      "text/latex": [
       "\\begin{tabular}{r|ccccc}\n",
       "\t& variable & min & max & mean & nunique\\\\\n",
       "\t\\hline\n",
       "\t& Symbol & Float64 & Float64 & Float64 & Int64\\\\\n",
       "\t\\hline\n",
       "\t1 & Taxa\\_de\\_Administração\\_Máxima\\_em\\_\\%\\_a.a. & 0.0 & 2.0 & 1.10222 & 6 \\\\\n",
       "\t2 & Patrimônio\\_\\_\\_em\\_milhares & 1.0168e5 & 849838.0 & 2.44412e5 & 9 \\\\\n",
       "\\end{tabular}\n"
      ],
      "text/plain": [
       "\u001b[1m2×5 DataFrame\u001b[0m\n",
       "\u001b[1m Row \u001b[0m│\u001b[1m variable                          \u001b[0m\u001b[1m min      \u001b[0m\u001b[1m max      \u001b[0m\u001b[1m mean      \u001b[0m\u001b[1m nuniq\u001b[0m ⋯\n",
       "\u001b[1m     \u001b[0m│\u001b[90m Symbol                            \u001b[0m\u001b[90m Float64  \u001b[0m\u001b[90m Float64  \u001b[0m\u001b[90m Float64   \u001b[0m\u001b[90m Int64\u001b[0m ⋯\n",
       "─────┼──────────────────────────────────────────────────────────────────────────\n",
       "   1 │ Taxa_de_Administração_Máxima_em_…  0.0            2.0  1.10222          ⋯\n",
       "   2 │ Patrimônio___em_milhares           1.0168e5  849838.0  2.44412e5\n",
       "\u001b[36m                                                                1 column omitted\u001b[0m"
      ]
     },
     "metadata": {},
     "output_type": "display_data"
    }
   ],
   "source": [
    "describe(dt[2:10, :],\n",
    "cols = [\"Taxa_de_Administração_Máxima_em_%_a.a.\", \"Patrimônio___em_milhares\"],\n",
    " :min, :max, :mean, :nunique)\n",
    "\n"
   ]
  }
 ],
 "metadata": {
  "kernelspec": {
   "display_name": "Julia 1.8.2",
   "language": "julia",
   "name": "julia-1.8"
  },
  "language_info": {
   "file_extension": ".jl",
   "mimetype": "application/julia",
   "name": "julia",
   "version": "1.8.2"
  },
  "orig_nbformat": 4
 },
 "nbformat": 4,
 "nbformat_minor": 2
}
