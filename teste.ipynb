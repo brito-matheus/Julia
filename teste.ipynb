{
  "cells": [
    {
      "cell_type": "raw",
      "metadata": {},
      "source": [
        "---\n",
        "title: Learning Julia\n",
        "author: Matheus Carrijo de Brito\n",
        "data: 2023/24/03\n",
        "format: html\n",
        "theme: quartz\n",
        "code-fold: true\n",
        "toc: true\n",
        "---"
      ],
      "id": "0a241f50"
    },
    {
      "cell_type": "code",
      "metadata": {},
      "source": [
        "using DataFrames\n",
        "using LinearAlgebra\n",
        "using Gadfly \n",
        "using TableView\n",
        "using CSV\n",
        "using XLSX\n"
      ],
      "id": "0b2cb58b",
      "execution_count": null,
      "outputs": []
    },
    {
      "cell_type": "code",
      "metadata": {},
      "source": [
        "fundos = XLSX.readxlsx(\"C:/Users/mathe/OneDrive/Documentos/Finanças/fundos.xlsx\")\n",
        "\n",
        "\n",
        "dt = DataFrames.DataFrame(fundos[\"Sheet1\"][:], :auto)\n",
        "\n",
        "column_names = Array{String}(dt[1, :])\n",
        "\n",
        "for i in eachindex(column_names)\n",
        "    column_names[i] = replace(column_names[i], \"\\n\" => \" \")\n",
        "    column_names[i] = replace(column_names[i], \" \" => \"_\")\n",
        "end\n"
      ],
      "id": "b9824b2b",
      "execution_count": null,
      "outputs": []
    },
    {
      "cell_type": "code",
      "metadata": {},
      "source": [
        "# Rename the data frame \n",
        "rename!(dt, column_names, makeunique=true)\n",
        "\n",
        "dt[1:10, 1:10]"
      ],
      "id": "4dda3303",
      "execution_count": null,
      "outputs": []
    }
  ],
  "metadata": {
    "kernelspec": {
      "name": "julia_vs-1.8",
      "language": "julia",
      "display_name": "julia_vs 1.8.2"
    }
  },
  "nbformat": 4,
  "nbformat_minor": 5
}